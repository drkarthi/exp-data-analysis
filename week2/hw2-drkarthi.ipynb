{
 "cells": [
  {
   "cell_type": "code",
   "execution_count": 2,
   "metadata": {
    "collapsed": false
   },
   "outputs": [],
   "source": [
    "import numpy as np\n",
    "import pandas as pd\n",
    "import matplotlib.pyplot as plt\n",
    "%matplotlib inline"
   ]
  },
  {
   "cell_type": "code",
   "execution_count": 3,
   "metadata": {
    "collapsed": false
   },
   "outputs": [],
   "source": [
    "df_raw = pd.read_csv(\"nutritions.csv\")"
   ]
  },
  {
   "cell_type": "markdown",
   "metadata": {},
   "source": [
    "2a) Remove all rows that have any invalid values (NA)."
   ]
  },
  {
   "cell_type": "code",
   "execution_count": 4,
   "metadata": {
    "collapsed": false
   },
   "outputs": [],
   "source": [
    "df_a = df_raw.dropna()"
   ]
  },
  {
   "cell_type": "markdown",
   "metadata": {},
   "source": [
    "2b) The five basic proximates (Ash, Fat, Protein, Water, and Carbohydrate) should always add up to 100g per food item. Remove the food entries whose five basic proximates do not sum to to 100g, with 1g tolerance on both sides. That means, if for a food entry the sum is within (99, 101), then we can keep it."
   ]
  },
  {
   "cell_type": "code",
   "execution_count": 5,
   "metadata": {
    "collapsed": false
   },
   "outputs": [],
   "source": [
    "sum_nutrients = df_a[['Ash','Fat','Protein','Water','Carbohydrate']].sum(axis=1)\n",
    "df = df_a[(sum_nutrients>=99) & (sum_nutrients<=101)]"
   ]
  },
  {
   "cell_type": "markdown",
   "metadata": {},
   "source": [
    "2c) Report the number of entries that are removed at each step."
   ]
  },
  {
   "cell_type": "code",
   "execution_count": 6,
   "metadata": {
    "collapsed": false
   },
   "outputs": [
    {
     "name": "stdout",
     "output_type": "stream",
     "text": [
      "Number of entries deleted in first step:  467\n",
      "Number of entries deleted in second step:  152\n"
     ]
    }
   ],
   "source": [
    "rem_a = len(df_raw) - len(df_a)\n",
    "print(\"Number of entries deleted in first step: \", rem_a)\n",
    "rem_b = len(df_a) - len(df)\n",
    "print(\"Number of entries deleted in second step: \", rem_b)"
   ]
  },
  {
   "cell_type": "markdown",
   "metadata": {},
   "source": [
    "3a)  What is the mean Carbohydrates among all food entries?"
   ]
  },
  {
   "cell_type": "code",
   "execution_count": 8,
   "metadata": {
    "collapsed": false
   },
   "outputs": [
    {
     "data": {
      "text/plain": [
       "32.91823972206137"
      ]
     },
     "execution_count": 8,
     "metadata": {},
     "output_type": "execute_result"
    }
   ],
   "source": [
    "df['Carbohydrate'].mean()"
   ]
  },
  {
   "cell_type": "markdown",
   "metadata": {},
   "source": [
    "3b) What is the mean Proteins for each group?"
   ]
  },
  {
   "cell_type": "code",
   "execution_count": 7,
   "metadata": {
    "collapsed": false
   },
   "outputs": [
    {
     "data": {
      "text/html": [
       "<div>\n",
       "<table border=\"1\" class=\"dataframe\">\n",
       "  <thead>\n",
       "    <tr style=\"text-align: right;\">\n",
       "      <th></th>\n",
       "      <th>Protein</th>\n",
       "    </tr>\n",
       "    <tr>\n",
       "      <th>Group</th>\n",
       "      <th></th>\n",
       "    </tr>\n",
       "  </thead>\n",
       "  <tbody>\n",
       "    <tr>\n",
       "      <th>Beef Products</th>\n",
       "      <td>24.221713</td>\n",
       "    </tr>\n",
       "    <tr>\n",
       "      <th>Beverages</th>\n",
       "      <td>1.856000</td>\n",
       "    </tr>\n",
       "    <tr>\n",
       "      <th>Breakfast Cereals</th>\n",
       "      <td>7.959321</td>\n",
       "    </tr>\n",
       "    <tr>\n",
       "      <th>Fast Foods</th>\n",
       "      <td>10.780041</td>\n",
       "    </tr>\n",
       "    <tr>\n",
       "      <th>Snacks</th>\n",
       "      <td>9.815094</td>\n",
       "    </tr>\n",
       "    <tr>\n",
       "      <th>Sweets</th>\n",
       "      <td>4.301043</td>\n",
       "    </tr>\n",
       "  </tbody>\n",
       "</table>\n",
       "</div>"
      ],
      "text/plain": [
       "                     Protein\n",
       "Group                       \n",
       "Beef Products      24.221713\n",
       "Beverages           1.856000\n",
       "Breakfast Cereals   7.959321\n",
       "Fast Foods         10.780041\n",
       "Snacks              9.815094\n",
       "Sweets              4.301043"
      ]
     },
     "execution_count": 7,
     "metadata": {},
     "output_type": "execute_result"
    }
   ],
   "source": [
    "df_by_group = df.groupby('Group')\n",
    "df_by_group[['Protein']].mean()"
   ]
  },
  {
   "cell_type": "markdown",
   "metadata": {},
   "source": [
    "3c) Which food has the highest Proteins for each group? What about Energy, Sugar, and Water?"
   ]
  },
  {
   "cell_type": "code",
   "execution_count": 154,
   "metadata": {
    "collapsed": false
   },
   "outputs": [
    {
     "data": {
      "text/html": [
       "<div>\n",
       "<table border=\"1\" class=\"dataframe\">\n",
       "  <thead>\n",
       "    <tr style=\"text-align: right;\">\n",
       "      <th></th>\n",
       "      <th>Food</th>\n",
       "      <th>Protein</th>\n",
       "    </tr>\n",
       "    <tr>\n",
       "      <th>Group</th>\n",
       "      <th></th>\n",
       "      <th></th>\n",
       "    </tr>\n",
       "  </thead>\n",
       "  <tbody>\n",
       "    <tr>\n",
       "      <th>Beef Products</th>\n",
       "      <td>Beef, chuck, arm pot roast, separable lean onl...</td>\n",
       "      <td>34.72</td>\n",
       "    </tr>\n",
       "    <tr>\n",
       "      <th>Beverages</th>\n",
       "      <td>Cocoa mix, with aspartame, low calorie, powder...</td>\n",
       "      <td>25.10</td>\n",
       "    </tr>\n",
       "    <tr>\n",
       "      <th>Breakfast Cereals</th>\n",
       "      <td>Cereals ready-to-eat, KELLOGG'S, SPECIAL K Pro...</td>\n",
       "      <td>33.70</td>\n",
       "    </tr>\n",
       "    <tr>\n",
       "      <th>Fast Foods</th>\n",
       "      <td>Fast Foods, Fried Chicken, Wing, meat only, sk...</td>\n",
       "      <td>28.49</td>\n",
       "    </tr>\n",
       "    <tr>\n",
       "      <th>Snacks</th>\n",
       "      <td>Snacks, pork skins, plain</td>\n",
       "      <td>61.30</td>\n",
       "    </tr>\n",
       "    <tr>\n",
       "      <th>Sweets</th>\n",
       "      <td>Gelatins, dry powder, unsweetened</td>\n",
       "      <td>85.60</td>\n",
       "    </tr>\n",
       "  </tbody>\n",
       "</table>\n",
       "</div>"
      ],
      "text/plain": [
       "                                                                Food  Protein\n",
       "Group                                                                        \n",
       "Beef Products      Beef, chuck, arm pot roast, separable lean onl...    34.72\n",
       "Beverages          Cocoa mix, with aspartame, low calorie, powder...    25.10\n",
       "Breakfast Cereals  Cereals ready-to-eat, KELLOGG'S, SPECIAL K Pro...    33.70\n",
       "Fast Foods         Fast Foods, Fried Chicken, Wing, meat only, sk...    28.49\n",
       "Snacks                                     Snacks, pork skins, plain    61.30\n",
       "Sweets                             Gelatins, dry powder, unsweetened    85.60"
      ]
     },
     "execution_count": 154,
     "metadata": {},
     "output_type": "execute_result"
    }
   ],
   "source": [
    "df_by_group = df.groupby('Group')\n",
    "df_by_group.apply( lambda x: df.ix[ x['Protein'].idxmax(), ['Food', 'Protein'] ] )"
   ]
  },
  {
   "cell_type": "code",
   "execution_count": 157,
   "metadata": {
    "collapsed": false
   },
   "outputs": [
    {
     "data": {
      "text/html": [
       "<div>\n",
       "<table border=\"1\" class=\"dataframe\">\n",
       "  <thead>\n",
       "    <tr style=\"text-align: right;\">\n",
       "      <th></th>\n",
       "      <th>Food</th>\n",
       "      <th>Energy</th>\n",
       "    </tr>\n",
       "    <tr>\n",
       "      <th>Group</th>\n",
       "      <th></th>\n",
       "      <th></th>\n",
       "    </tr>\n",
       "  </thead>\n",
       "  <tbody>\n",
       "    <tr>\n",
       "      <th>Beef Products</th>\n",
       "      <td>Beef, variety meats and by-products, suet, raw</td>\n",
       "      <td>854</td>\n",
       "    </tr>\n",
       "    <tr>\n",
       "      <th>Beverages</th>\n",
       "      <td>Coffee, dry, powder, with whitener, reduced ca...</td>\n",
       "      <td>509</td>\n",
       "    </tr>\n",
       "    <tr>\n",
       "      <th>Breakfast Cereals</th>\n",
       "      <td>Cereals ready-to-eat, granola, homemade</td>\n",
       "      <td>489</td>\n",
       "    </tr>\n",
       "    <tr>\n",
       "      <th>Fast Foods</th>\n",
       "      <td>McDONALD'S, McDONALDLAND Chocolate Chip Cookies</td>\n",
       "      <td>480</td>\n",
       "    </tr>\n",
       "    <tr>\n",
       "      <th>Snacks</th>\n",
       "      <td>Snacks, popcorn, oil-popped, microwave, regula...</td>\n",
       "      <td>583</td>\n",
       "    </tr>\n",
       "    <tr>\n",
       "      <th>Sweets</th>\n",
       "      <td>Chocolate, dark, 70-85% cacao solids</td>\n",
       "      <td>598</td>\n",
       "    </tr>\n",
       "  </tbody>\n",
       "</table>\n",
       "</div>"
      ],
      "text/plain": [
       "                                                                Food  Energy\n",
       "Group                                                                       \n",
       "Beef Products         Beef, variety meats and by-products, suet, raw     854\n",
       "Beverages          Coffee, dry, powder, with whitener, reduced ca...     509\n",
       "Breakfast Cereals            Cereals ready-to-eat, granola, homemade     489\n",
       "Fast Foods           McDONALD'S, McDONALDLAND Chocolate Chip Cookies     480\n",
       "Snacks             Snacks, popcorn, oil-popped, microwave, regula...     583\n",
       "Sweets                          Chocolate, dark, 70-85% cacao solids     598"
      ]
     },
     "execution_count": 157,
     "metadata": {},
     "output_type": "execute_result"
    }
   ],
   "source": [
    "df_by_group.apply( lambda x: df.ix[ x['Energy'].idxmax(), ['Food', 'Energy'] ] )"
   ]
  },
  {
   "cell_type": "code",
   "execution_count": 160,
   "metadata": {
    "collapsed": false
   },
   "outputs": [
    {
     "data": {
      "text/html": [
       "<div>\n",
       "<table border=\"1\" class=\"dataframe\">\n",
       "  <thead>\n",
       "    <tr style=\"text-align: right;\">\n",
       "      <th></th>\n",
       "      <th>Food</th>\n",
       "      <th>Sugars</th>\n",
       "    </tr>\n",
       "    <tr>\n",
       "      <th>Group</th>\n",
       "      <th></th>\n",
       "      <th></th>\n",
       "    </tr>\n",
       "  </thead>\n",
       "  <tbody>\n",
       "    <tr>\n",
       "      <th>Beef Products</th>\n",
       "      <td>Beef, grass-fed, strip steaks, lean only, raw</td>\n",
       "      <td>0.00</td>\n",
       "    </tr>\n",
       "    <tr>\n",
       "      <th>Beverages</th>\n",
       "      <td>Whiskey sour mix, powder</td>\n",
       "      <td>97.30</td>\n",
       "    </tr>\n",
       "    <tr>\n",
       "      <th>Breakfast Cereals</th>\n",
       "      <td>Cereals ready-to-eat, KELLOGG, KELLOGG'S HONEY...</td>\n",
       "      <td>56.20</td>\n",
       "    </tr>\n",
       "    <tr>\n",
       "      <th>Fast Foods</th>\n",
       "      <td>McDONALD'S, Sweet 'N Sour Sauce</td>\n",
       "      <td>35.79</td>\n",
       "    </tr>\n",
       "    <tr>\n",
       "      <th>Snacks</th>\n",
       "      <td>Snacks, candy bits, yogurt covered with vitamin C</td>\n",
       "      <td>65.00</td>\n",
       "    </tr>\n",
       "    <tr>\n",
       "      <th>Sweets</th>\n",
       "      <td>Sugars, granulated</td>\n",
       "      <td>99.80</td>\n",
       "    </tr>\n",
       "  </tbody>\n",
       "</table>\n",
       "</div>"
      ],
      "text/plain": [
       "                                                                Food  Sugars\n",
       "Group                                                                       \n",
       "Beef Products          Beef, grass-fed, strip steaks, lean only, raw    0.00\n",
       "Beverages                                   Whiskey sour mix, powder   97.30\n",
       "Breakfast Cereals  Cereals ready-to-eat, KELLOGG, KELLOGG'S HONEY...   56.20\n",
       "Fast Foods                           McDONALD'S, Sweet 'N Sour Sauce   35.79\n",
       "Snacks             Snacks, candy bits, yogurt covered with vitamin C   65.00\n",
       "Sweets                                            Sugars, granulated   99.80"
      ]
     },
     "execution_count": 160,
     "metadata": {},
     "output_type": "execute_result"
    }
   ],
   "source": [
    "df_by_group.apply( lambda x: df.ix[ x['Sugars'].idxmax(), ['Food', 'Sugars'] ])"
   ]
  },
  {
   "cell_type": "code",
   "execution_count": 162,
   "metadata": {
    "collapsed": false
   },
   "outputs": [
    {
     "data": {
      "text/html": [
       "<div>\n",
       "<table border=\"1\" class=\"dataframe\">\n",
       "  <thead>\n",
       "    <tr style=\"text-align: right;\">\n",
       "      <th></th>\n",
       "      <th>Food</th>\n",
       "      <th>Water</th>\n",
       "    </tr>\n",
       "    <tr>\n",
       "      <th>Group</th>\n",
       "      <th></th>\n",
       "      <th></th>\n",
       "    </tr>\n",
       "  </thead>\n",
       "  <tbody>\n",
       "    <tr>\n",
       "      <th>Beef Products</th>\n",
       "      <td>Beef, variety meats and by-products, tripe, raw</td>\n",
       "      <td>84.16</td>\n",
       "    </tr>\n",
       "    <tr>\n",
       "      <th>Beverages</th>\n",
       "      <td>Water, bottled, generic</td>\n",
       "      <td>99.98</td>\n",
       "    </tr>\n",
       "    <tr>\n",
       "      <th>Breakfast Cereals</th>\n",
       "      <td>Cereals, Malt-o-Meal, plain, prepared with wat...</td>\n",
       "      <td>89.51</td>\n",
       "    </tr>\n",
       "    <tr>\n",
       "      <th>Fast Foods</th>\n",
       "      <td>McDONALD'S, Side Salad</td>\n",
       "      <td>93.93</td>\n",
       "    </tr>\n",
       "    <tr>\n",
       "      <th>Snacks</th>\n",
       "      <td>Snacks, beef jerky, chopped and formed</td>\n",
       "      <td>23.36</td>\n",
       "    </tr>\n",
       "    <tr>\n",
       "      <th>Sweets</th>\n",
       "      <td>Pectin, liquid</td>\n",
       "      <td>96.90</td>\n",
       "    </tr>\n",
       "  </tbody>\n",
       "</table>\n",
       "</div>"
      ],
      "text/plain": [
       "                                                                Food  Water\n",
       "Group                                                                      \n",
       "Beef Products        Beef, variety meats and by-products, tripe, raw  84.16\n",
       "Beverages                                    Water, bottled, generic  99.98\n",
       "Breakfast Cereals  Cereals, Malt-o-Meal, plain, prepared with wat...  89.51\n",
       "Fast Foods                                    McDONALD'S, Side Salad  93.93\n",
       "Snacks                        Snacks, beef jerky, chopped and formed  23.36\n",
       "Sweets                                                Pectin, liquid  96.90"
      ]
     },
     "execution_count": 162,
     "metadata": {},
     "output_type": "execute_result"
    }
   ],
   "source": [
    "df_by_group.apply( lambda x: df.ix[ x['Water'].idxmax(), ['Food','Water'] ] )"
   ]
  },
  {
   "cell_type": "markdown",
   "metadata": {
    "collapsed": true
   },
   "source": [
    "3d) Which group has the highest mean Energy?"
   ]
  },
  {
   "cell_type": "code",
   "execution_count": 50,
   "metadata": {
    "collapsed": false
   },
   "outputs": [
    {
     "data": {
      "text/html": [
       "<div>\n",
       "<table border=\"1\" class=\"dataframe\">\n",
       "  <thead>\n",
       "    <tr style=\"text-align: right;\">\n",
       "      <th></th>\n",
       "      <th>Energy</th>\n",
       "    </tr>\n",
       "    <tr>\n",
       "      <th>Group</th>\n",
       "      <th></th>\n",
       "    </tr>\n",
       "  </thead>\n",
       "  <tbody>\n",
       "    <tr>\n",
       "      <th>Snacks</th>\n",
       "      <td>445.735849</td>\n",
       "    </tr>\n",
       "  </tbody>\n",
       "</table>\n",
       "</div>"
      ],
      "text/plain": [
       "            Energy\n",
       "Group             \n",
       "Snacks  445.735849"
      ]
     },
     "execution_count": 50,
     "metadata": {},
     "output_type": "execute_result"
    }
   ],
   "source": [
    "mean_energy_by_group = df.groupby('Group')[['Energy']].mean()\n",
    "mean_energy_by_group.ix[mean_energy_by_group.idxmax()]"
   ]
  },
  {
   "cell_type": "markdown",
   "metadata": {},
   "source": [
    "3e) Create a histogram showing the distribution of Fat for Fast Foods."
   ]
  },
  {
   "cell_type": "code",
   "execution_count": 63,
   "metadata": {
    "collapsed": false
   },
   "outputs": [
    {
     "data": {
      "text/plain": [
       "<matplotlib.text.Text at 0x8f696a0>"
      ]
     },
     "execution_count": 63,
     "metadata": {},
     "output_type": "execute_result"
    },
    {
     "data": {
      "image/png": "[encoded data removed]",
      "text/plain": [
       "<matplotlib.figure.Figure at 0x8f795f8>"
      ]
     },
     "metadata": {},
     "output_type": "display_data"
    }
   ],
   "source": [
    "df_fast_food = df[(df['Group']=='Fast Foods')]\n",
    "_ = df_fast_food[['Fat']].hist()\n",
    "plt.title(\"Distribution of Fat for Fast Foods\")\n",
    "plt.xlabel(\"Fat in g/100g\")\n",
    "plt.ylabel(\"Count\")"
   ]
  },
  {
   "cell_type": "markdown",
   "metadata": {},
   "source": [
    "3f) Create a boxplot to compare the distributions of all nutritions for Fast Foods. "
   ]
  },
  {
   "cell_type": "code",
   "execution_count": 74,
   "metadata": {
    "collapsed": false
   },
   "outputs": [
    {
     "name": "stderr",
     "output_type": "stream",
     "text": [
      "C:\\Users\\Karthik\\Anaconda3\\lib\\site-packages\\ipykernel\\__main__.py:1: FutureWarning: \n",
      "The default value for 'return_type' will change to 'axes' in a future release.\n",
      " To use the future behavior now, set return_type='axes'.\n",
      " To keep the previous behavior and silence this warning, set return_type='dict'.\n",
      "  if __name__ == '__main__':\n"
     ]
    },
    {
     "data": {
      "image/png": "[encoded data removed]",
      "text/plain": [
       "<matplotlib.figure.Figure at 0x927bcf8>"
      ]
     },
     "metadata": {},
     "output_type": "display_data"
    }
   ],
   "source": [
    "_ = df_fast_food[['Protein','Fat','Carbohydrate','Ash','Water','Sugars','Fiber']].boxplot()\n",
    "plt.title(\"Distribution of nutritions in Fast Foods\")\n",
    "plt.xlabel('Nutrition')\n",
    "_ = plt.ylabel('Weight in g/100g')"
   ]
  },
  {
   "cell_type": "markdown",
   "metadata": {},
   "source": [
    "3g) Create a boxplot to compare the distribution of Energy for Fast Foods vs. the distribution of Energy for Sweets."
   ]
  },
  {
   "cell_type": "code",
   "execution_count": 99,
   "metadata": {
    "collapsed": false
   },
   "outputs": [
    {
     "data": {
      "image/png": "[encoded data removed]",
      "text/plain": [
       "<matplotlib.figure.Figure at 0xc585048>"
      ]
     },
     "metadata": {},
     "output_type": "display_data"
    }
   ],
   "source": [
    "df_ff_sweets = df[(df['Group']=='Fast Foods') | (df['Group']=='Sweets')]\n",
    "_ = df_ff_sweets.boxplot(column='Energy', by='Group')\n",
    "_ =plt.title('Distribution of Energy for Fast Foods and Sweets')\n",
    "_ = plt.xlabel('Group')"
   ]
  },
  {
   "cell_type": "markdown",
   "metadata": {},
   "source": [
    "3h) Perform a two-sided t-test for the null hypothesis that the Energy for Fast Foods and the Energy for Sweets have identical average values. Explain what the result means."
   ]
  },
  {
   "cell_type": "code",
   "execution_count": 107,
   "metadata": {
    "collapsed": false
   },
   "outputs": [
    {
     "data": {
      "text/plain": [
       "Ttest_indResult(statistic=-7.4678123092477389, pvalue=4.9755056199471084e-13)"
      ]
     },
     "execution_count": 107,
     "metadata": {},
     "output_type": "execute_result"
    }
   ],
   "source": [
    "energy_ff = df.ix[df['Group']=='Fast Foods', 'Energy']\n",
    "energy_sw = df.ix[df['Group']=='Sweets', 'Energy']\n",
    "from scipy.stats import ttest_ind\n",
    "ttest_ind(energy_ff, energy_sw, equal_var=False)"
   ]
  },
  {
   "cell_type": "markdown",
   "metadata": {},
   "source": [
    "4a) What is the Pearson's correlation between Energy and Carbohydrate among all food entries?"
   ]
  },
  {
   "cell_type": "code",
   "execution_count": 163,
   "metadata": {
    "collapsed": false
   },
   "outputs": [
    {
     "data": {
      "text/plain": [
       "0.68082778264254173"
      ]
     },
     "execution_count": 163,
     "metadata": {},
     "output_type": "execute_result"
    }
   ],
   "source": [
    "df['Energy'].corr(df['Carbohydrate'])"
   ]
  },
  {
   "cell_type": "markdown",
   "metadata": {},
   "source": [
    "4b) Generate the correlation matrix between Energy, Carbohydrate, Fat, Protein, Ash, and Water."
   ]
  },
  {
   "cell_type": "code",
   "execution_count": 173,
   "metadata": {
    "collapsed": false
   },
   "outputs": [],
   "source": [
    "corr_matrix = df[['Energy', 'Carbohydrate', 'Fat', 'Protein', 'Ash', 'Water']].corr()"
   ]
  },
  {
   "cell_type": "markdown",
   "metadata": {},
   "source": [
    "4c) Visualize the correlation matrix."
   ]
  },
  {
   "cell_type": "code",
   "execution_count": 178,
   "metadata": {
    "collapsed": false
   },
   "outputs": [
    {
     "name": "stderr",
     "output_type": "stream",
     "text": [
      "C:\\Users\\Karthik\\Anaconda3\\lib\\site-packages\\matplotlib\\collections.py:590: FutureWarning: elementwise comparison failed; returning scalar instead, but in the future will perform elementwise comparison\n",
      "  if self._edgecolors == str('face'):\n"
     ]
    },
    {
     "data": {
      "image/png": "[encoded data removed]",
      "text/plain": [
       "<matplotlib.figure.Figure at 0x8f4a978>"
      ]
     },
     "metadata": {},
     "output_type": "display_data"
    }
   ],
   "source": [
    "fig = plt.figure()\n",
    "ax = fig.add_subplot(111)\n",
    "cax = ax.matshow(corr_matrix, cmap=plt.cm.OrRd)\n",
    "_ = fig.colorbar(cax)\n",
    "\n",
    "tags = [' '] + corr_matrix.columns.tolist()\n",
    "ax.set_xticklabels(tags)\n",
    "ax.set_yticklabels(tags)\n",
    "_ =plt.title('Correlation Matrix Visualization')"
   ]
  },
  {
   "cell_type": "markdown",
   "metadata": {},
   "source": [
    "4d) Build a simple regression model of Energy from Fat, using entries in Fast Foods only. This means Energy is the dependent variable (Y), and Fat is the independent variable (X). Report coefficients, R-squared score, and the confidence intervals of the coefficients."
   ]
  },
  {
   "cell_type": "code",
   "execution_count": 181,
   "metadata": {
    "collapsed": false
   },
   "outputs": [
    {
     "data": {
      "text/html": [
       "<table class=\"simpletable\">\n",
       "<caption>OLS Regression Results</caption>\n",
       "<tr>\n",
       "  <th>Dep. Variable:</th>         <td>Energy</td>      <th>  R-squared:         </th> <td>   0.700</td>\n",
       "</tr>\n",
       "<tr>\n",
       "  <th>Model:</th>                   <td>OLS</td>       <th>  Adj. R-squared:    </th> <td>   0.699</td>\n",
       "</tr>\n",
       "<tr>\n",
       "  <th>Method:</th>             <td>Least Squares</td>  <th>  F-statistic:       </th> <td>   559.8</td>\n",
       "</tr>\n",
       "<tr>\n",
       "  <th>Date:</th>             <td>Wed, 14 Oct 2015</td> <th>  Prob (F-statistic):</th> <td>1.13e-64</td>\n",
       "</tr>\n",
       "<tr>\n",
       "  <th>Time:</th>                 <td>01:11:02</td>     <th>  Log-Likelihood:    </th> <td> -1239.8</td>\n",
       "</tr>\n",
       "<tr>\n",
       "  <th>No. Observations:</th>      <td>   242</td>      <th>  AIC:               </th> <td>   2484.</td>\n",
       "</tr>\n",
       "<tr>\n",
       "  <th>Df Residuals:</th>          <td>   240</td>      <th>  BIC:               </th> <td>   2490.</td>\n",
       "</tr>\n",
       "<tr>\n",
       "  <th>Df Model:</th>              <td>     1</td>      <th>                     </th>     <td> </td>   \n",
       "</tr>\n",
       "<tr>\n",
       "  <th>Covariance Type:</th>      <td>nonrobust</td>    <th>                     </th>     <td> </td>   \n",
       "</tr>\n",
       "</table>\n",
       "<table class=\"simpletable\">\n",
       "<tr>\n",
       "      <td></td>         <th>coef</th>     <th>std err</th>      <th>t</th>      <th>P>|t|</th> <th>[95.0% Conf. Int.]</th> \n",
       "</tr>\n",
       "<tr>\n",
       "  <th>Intercept</th> <td>  134.6526</td> <td>    5.934</td> <td>   22.692</td> <td> 0.000</td> <td>  122.963   146.342</td>\n",
       "</tr>\n",
       "<tr>\n",
       "  <th>Fat</th>       <td>    9.5708</td> <td>    0.404</td> <td>   23.661</td> <td> 0.000</td> <td>    8.774    10.368</td>\n",
       "</tr>\n",
       "</table>\n",
       "<table class=\"simpletable\">\n",
       "<tr>\n",
       "  <th>Omnibus:</th>       <td>31.267</td> <th>  Durbin-Watson:     </th> <td>   1.163</td>\n",
       "</tr>\n",
       "<tr>\n",
       "  <th>Prob(Omnibus):</th> <td> 0.000</td> <th>  Jarque-Bera (JB):  </th> <td>  86.528</td>\n",
       "</tr>\n",
       "<tr>\n",
       "  <th>Skew:</th>          <td>-0.540</td> <th>  Prob(JB):          </th> <td>1.62e-19</td>\n",
       "</tr>\n",
       "<tr>\n",
       "  <th>Kurtosis:</th>      <td> 5.723</td> <th>  Cond. No.          </th> <td>    33.3</td>\n",
       "</tr>\n",
       "</table>"
      ],
      "text/plain": [
       "<class 'statsmodels.iolib.summary.Summary'>\n",
       "\"\"\"\n",
       "                            OLS Regression Results                            \n",
       "==============================================================================\n",
       "Dep. Variable:                 Energy   R-squared:                       0.700\n",
       "Model:                            OLS   Adj. R-squared:                  0.699\n",
       "Method:                 Least Squares   F-statistic:                     559.8\n",
       "Date:                Wed, 14 Oct 2015   Prob (F-statistic):           1.13e-64\n",
       "Time:                        01:11:02   Log-Likelihood:                -1239.8\n",
       "No. Observations:                 242   AIC:                             2484.\n",
       "Df Residuals:                     240   BIC:                             2490.\n",
       "Df Model:                           1                                         \n",
       "Covariance Type:            nonrobust                                         \n",
       "==============================================================================\n",
       "                 coef    std err          t      P>|t|      [95.0% Conf. Int.]\n",
       "------------------------------------------------------------------------------\n",
       "Intercept    134.6526      5.934     22.692      0.000       122.963   146.342\n",
       "Fat            9.5708      0.404     23.661      0.000         8.774    10.368\n",
       "==============================================================================\n",
       "Omnibus:                       31.267   Durbin-Watson:                   1.163\n",
       "Prob(Omnibus):                  0.000   Jarque-Bera (JB):               86.528\n",
       "Skew:                          -0.540   Prob(JB):                     1.62e-19\n",
       "Kurtosis:                       5.723   Cond. No.                         33.3\n",
       "==============================================================================\n",
       "\n",
       "Warnings:\n",
       "[1] Standard Errors assume that the covariance matrix of the errors is correctly specified.\n",
       "\"\"\""
      ]
     },
     "execution_count": 181,
     "metadata": {},
     "output_type": "execute_result"
    }
   ],
   "source": [
    "import statsmodels.formula.api as smf\n",
    "df_ff = df.ix[ df.Group=='Fast Foods' ]\n",
    "model1 = smf.ols('Energy ~ Fat', data=df_ff).fit()\n",
    "model1.summary()"
   ]
  },
  {
   "cell_type": "markdown",
   "metadata": {},
   "source": [
    "* Coefficients:\n",
    "    * Intercept = 134.66\n",
    "    * Slope = 9.57\n",
    "* R-squared score: 0.700\n",
    "* Confidence intervals:\n",
    "    * Intercept: [122.96, 146.34]\n",
    "    * Slope: [8.77, 10.37]"
   ]
  },
  {
   "cell_type": "code",
   "execution_count": null,
   "metadata": {
    "collapsed": true
   },
   "outputs": [],
   "source": []
  }
 ],
 "metadata": {
  "kernelspec": {
   "display_name": "Python 3",
   "language": "python",
   "name": "python3"
  },
  "language_info": {
   "codemirror_mode": {
    "name": "ipython",
    "version": 3
   },
   "file_extension": ".py",
   "mimetype": "text/x-python",
   "name": "python",
   "nbconvert_exporter": "python",
   "pygments_lexer": "ipython3",
   "version": "3.4.3"
  }
 },
 "nbformat": 4,
 "nbformat_minor": 0
}
